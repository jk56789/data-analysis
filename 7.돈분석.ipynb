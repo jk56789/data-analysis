{
 "cells": [
  {
   "cell_type": "code",
   "execution_count": 2,
   "metadata": {},
   "outputs": [
    {
     "data": {
      "text/html": [
       "<div>\n",
       "<style scoped>\n",
       "    .dataframe tbody tr th:only-of-type {\n",
       "        vertical-align: middle;\n",
       "    }\n",
       "\n",
       "    .dataframe tbody tr th {\n",
       "        vertical-align: top;\n",
       "    }\n",
       "\n",
       "    .dataframe thead th {\n",
       "        text-align: right;\n",
       "    }\n",
       "</style>\n",
       "<table border=\"1\" class=\"dataframe\">\n",
       "  <thead>\n",
       "    <tr style=\"text-align: right;\">\n",
       "      <th></th>\n",
       "      <th>sad</th>\n",
       "      <th>sex</th>\n",
       "      <th>money</th>\n",
       "      <th>age</th>\n",
       "      <th>school</th>\n",
       "      <th>jobhome</th>\n",
       "      <th>anxiety</th>\n",
       "      <th>sns</th>\n",
       "    </tr>\n",
       "  </thead>\n",
       "  <tbody>\n",
       "    <tr>\n",
       "      <th>0</th>\n",
       "      <td>5</td>\n",
       "      <td>남</td>\n",
       "      <td>하강</td>\n",
       "      <td>46</td>\n",
       "      <td>대학교</td>\n",
       "      <td>경험 있음</td>\n",
       "      <td>비슷하다</td>\n",
       "      <td>0.428571</td>\n",
       "    </tr>\n",
       "    <tr>\n",
       "      <th>1</th>\n",
       "      <td>6</td>\n",
       "      <td>여</td>\n",
       "      <td>변호없음</td>\n",
       "      <td>59</td>\n",
       "      <td>대학교</td>\n",
       "      <td>경험 있음</td>\n",
       "      <td>커진다</td>\n",
       "      <td>10.000000</td>\n",
       "    </tr>\n",
       "    <tr>\n",
       "      <th>2</th>\n",
       "      <td>6</td>\n",
       "      <td>여</td>\n",
       "      <td>변호없음</td>\n",
       "      <td>67</td>\n",
       "      <td>대학교</td>\n",
       "      <td>일을 안함</td>\n",
       "      <td>커진다</td>\n",
       "      <td>5.000000</td>\n",
       "    </tr>\n",
       "    <tr>\n",
       "      <th>3</th>\n",
       "      <td>8</td>\n",
       "      <td>남</td>\n",
       "      <td>하강</td>\n",
       "      <td>63</td>\n",
       "      <td>대학교</td>\n",
       "      <td>경험 없음</td>\n",
       "      <td>커진다</td>\n",
       "      <td>5.000000</td>\n",
       "    </tr>\n",
       "    <tr>\n",
       "      <th>4</th>\n",
       "      <td>6</td>\n",
       "      <td>여</td>\n",
       "      <td>하강</td>\n",
       "      <td>37</td>\n",
       "      <td>대학교</td>\n",
       "      <td>경험 없음</td>\n",
       "      <td>비슷하다</td>\n",
       "      <td>7.000000</td>\n",
       "    </tr>\n",
       "    <tr>\n",
       "      <th>...</th>\n",
       "      <td>...</td>\n",
       "      <td>...</td>\n",
       "      <td>...</td>\n",
       "      <td>...</td>\n",
       "      <td>...</td>\n",
       "      <td>...</td>\n",
       "      <td>...</td>\n",
       "      <td>...</td>\n",
       "    </tr>\n",
       "    <tr>\n",
       "      <th>4995</th>\n",
       "      <td>10</td>\n",
       "      <td>남</td>\n",
       "      <td>해고 및 폐업</td>\n",
       "      <td>24</td>\n",
       "      <td>대학교</td>\n",
       "      <td>경험 있음</td>\n",
       "      <td>줄어든다</td>\n",
       "      <td>10.000000</td>\n",
       "    </tr>\n",
       "    <tr>\n",
       "      <th>4996</th>\n",
       "      <td>10</td>\n",
       "      <td>남</td>\n",
       "      <td>하강</td>\n",
       "      <td>20</td>\n",
       "      <td>대학교</td>\n",
       "      <td>일을 안함</td>\n",
       "      <td>커진다</td>\n",
       "      <td>5.000000</td>\n",
       "    </tr>\n",
       "    <tr>\n",
       "      <th>4997</th>\n",
       "      <td>6</td>\n",
       "      <td>여</td>\n",
       "      <td>변호없음</td>\n",
       "      <td>28</td>\n",
       "      <td>대학교</td>\n",
       "      <td>경험 있음</td>\n",
       "      <td>비슷하다</td>\n",
       "      <td>0.142857</td>\n",
       "    </tr>\n",
       "    <tr>\n",
       "      <th>4998</th>\n",
       "      <td>1</td>\n",
       "      <td>여</td>\n",
       "      <td>변호없음</td>\n",
       "      <td>51</td>\n",
       "      <td>대학교</td>\n",
       "      <td>경험 있음</td>\n",
       "      <td>커진다</td>\n",
       "      <td>3.000000</td>\n",
       "    </tr>\n",
       "    <tr>\n",
       "      <th>4999</th>\n",
       "      <td>8</td>\n",
       "      <td>여</td>\n",
       "      <td>변호없음</td>\n",
       "      <td>28</td>\n",
       "      <td>대학교</td>\n",
       "      <td>경험 없음</td>\n",
       "      <td>비슷하다</td>\n",
       "      <td>10.000000</td>\n",
       "    </tr>\n",
       "  </tbody>\n",
       "</table>\n",
       "<p>5000 rows × 8 columns</p>\n",
       "</div>"
      ],
      "text/plain": [
       "      sad sex    money  age school jobhome anxiety        sns\n",
       "0       5   남       하강   46    대학교   경험 있음    비슷하다   0.428571\n",
       "1       6   여     변호없음   59    대학교   경험 있음     커진다  10.000000\n",
       "2       6   여     변호없음   67    대학교   일을 안함     커진다   5.000000\n",
       "3       8   남       하강   63    대학교   경험 없음     커진다   5.000000\n",
       "4       6   여       하강   37    대학교   경험 없음    비슷하다   7.000000\n",
       "...   ...  ..      ...  ...    ...     ...     ...        ...\n",
       "4995   10   남  해고 및 폐업   24    대학교   경험 있음    줄어든다  10.000000\n",
       "4996   10   남       하강   20    대학교   일을 안함     커진다   5.000000\n",
       "4997    6   여     변호없음   28    대학교   경험 있음    비슷하다   0.142857\n",
       "4998    1   여     변호없음   51    대학교   경험 있음     커진다   3.000000\n",
       "4999    8   여     변호없음   28    대학교   경험 없음    비슷하다  10.000000\n",
       "\n",
       "[5000 rows x 8 columns]"
      ]
     },
     "execution_count": 2,
     "metadata": {},
     "output_type": "execute_result"
    }
   ],
   "source": [
    "import cv2\n",
    "import matplotlib.pyplot as plt\n",
    "import matplotlib.image as img\n",
    "import pandas as pd\n",
    "df = pd.read_csv('C:/Users/dlwnr/a/thesis_code/use.csv', index_col=0)\n",
    "df"
   ]
  },
  {
   "cell_type": "code",
   "execution_count": 4,
   "metadata": {},
   "outputs": [
    {
     "data": {
      "text/plain": [
       "변호없음       3704\n",
       "하강         1034\n",
       "해고 및 폐업     144\n",
       "상승          118\n",
       "Name: money, dtype: int64"
      ]
     },
     "execution_count": 4,
     "metadata": {},
     "output_type": "execute_result"
    }
   ],
   "source": [
    "df['money'].value_counts()"
   ]
  },
  {
   "cell_type": "code",
   "execution_count": 5,
   "metadata": {},
   "outputs": [],
   "source": [
    "stable = df[df['money']=='변호없음']\n",
    "down = df[df['money']=='하강']\n",
    "out = df[df['money']=='해고 및 폐업']\n",
    "up = df[df['money']=='상승']"
   ]
  },
  {
   "cell_type": "code",
   "execution_count": 10,
   "metadata": {},
   "outputs": [
    {
     "data": {
      "text/plain": [
       "count    3704.000000\n",
       "mean        5.140389\n",
       "std         2.275336\n",
       "min         0.000000\n",
       "25%         4.000000\n",
       "50%         5.000000\n",
       "75%         7.000000\n",
       "max        10.000000\n",
       "Name: sad, dtype: float64"
      ]
     },
     "execution_count": 10,
     "metadata": {},
     "output_type": "execute_result"
    }
   ],
   "source": [
    "stable['sad'].describe()"
   ]
  },
  {
   "cell_type": "code",
   "execution_count": 11,
   "metadata": {},
   "outputs": [
    {
     "data": {
      "text/plain": [
       "count    1034.000000\n",
       "mean        5.865571\n",
       "std         2.069067\n",
       "min         0.000000\n",
       "25%         5.000000\n",
       "50%         6.000000\n",
       "75%         7.000000\n",
       "max        10.000000\n",
       "Name: sad, dtype: float64"
      ]
     },
     "execution_count": 11,
     "metadata": {},
     "output_type": "execute_result"
    }
   ],
   "source": [
    "down['sad'].describe()"
   ]
  },
  {
   "cell_type": "code",
   "execution_count": 13,
   "metadata": {},
   "outputs": [
    {
     "data": {
      "text/plain": [
       "count    144.000000\n",
       "mean       5.659722\n",
       "std        2.525847\n",
       "min        0.000000\n",
       "25%        4.000000\n",
       "50%        6.000000\n",
       "75%        7.000000\n",
       "max       10.000000\n",
       "Name: sad, dtype: float64"
      ]
     },
     "execution_count": 13,
     "metadata": {},
     "output_type": "execute_result"
    }
   ],
   "source": [
    "out['sad'].describe()"
   ]
  },
  {
   "cell_type": "code",
   "execution_count": 14,
   "metadata": {},
   "outputs": [
    {
     "data": {
      "text/plain": [
       "count    118.000000\n",
       "mean       5.169492\n",
       "std        2.133594\n",
       "min        0.000000\n",
       "25%        4.000000\n",
       "50%        5.000000\n",
       "75%        7.000000\n",
       "max       10.000000\n",
       "Name: sad, dtype: float64"
      ]
     },
     "execution_count": 14,
     "metadata": {},
     "output_type": "execute_result"
    }
   ],
   "source": [
    "up['sad'].describe()"
   ]
  },
  {
   "cell_type": "code",
   "execution_count": 15,
   "metadata": {},
   "outputs": [
    {
     "name": "stdout",
     "output_type": "stream",
     "text": [
      "['NanumGothic']\n"
     ]
    },
    {
     "data": {
      "image/png": "[encoded data removed]",
      "text/plain": [
       "<Figure size 432x288 with 1 Axes>"
      ]
     },
     "metadata": {
      "needs_background": "light"
     },
     "output_type": "display_data"
    }
   ],
   "source": [
    "import matplotlib.pyplot as plt\n",
    "\n",
    "\n",
    "# matplotlib 폰트설정\n",
    "# plt.rc('font', family='NanumGothicOTF') # For MacOS\n",
    "plt.rc('font', family='NanumGothic') # For Windows\n",
    "print(plt.rcParams['font.family'])\n",
    "\n",
    "%matplotlib inline\n",
    "# 브라우저에서 바로 이미지를 그린다.\n",
    "\n",
    "\n",
    "plt.boxplot([up['sad'], stable['sad'], down['sad'],out['sad']],\n",
    "    labels=['up', 'stable', 'down','out'], showmeans=True)\n",
    "plt.show()"
   ]
  },
  {
   "cell_type": "code",
   "execution_count": 16,
   "metadata": {},
   "outputs": [
    {
     "name": "stdout",
     "output_type": "stream",
     "text": [
      "ShapiroResult(statistic=0.9551854729652405, pvalue=0.0005984770250506699)\n",
      "ShapiroResult(statistic=0.9490852952003479, pvalue=4.883364446815683e-34)\n",
      "ShapiroResult(statistic=0.9468091726303101, pvalue=7.687401471797914e-19)\n",
      "ShapiroResult(statistic=0.9595832824707031, pvalue=0.0003094856219831854)\n"
     ]
    }
   ],
   "source": [
    "from scipy.stats import  shapiro\n",
    "\n",
    "#정규성\n",
    "\n",
    "print(shapiro(up['sad']))\n",
    "\n",
    "print(shapiro(stable['sad']))\n",
    "\n",
    "print(shapiro(down['sad']))\n",
    "print(shapiro(out['sad']))\n",
    "\n",
    "\n",
    "\n"
   ]
  },
  {
   "cell_type": "code",
   "execution_count": 17,
   "metadata": {},
   "outputs": [
    {
     "data": {
      "text/plain": [
       "LeveneResult(statistic=8.495961364306766, pvalue=1.2578859901833684e-05)"
      ]
     },
     "execution_count": 17,
     "metadata": {},
     "output_type": "execute_result"
    }
   ],
   "source": [
    "#등분산성(levene)\n",
    "from scipy.stats import  levene\n",
    "\n",
    "levene(up['sad'],stable['sad'], down['sad'],out['sad'])"
   ]
  },
  {
   "cell_type": "code",
   "execution_count": 19,
   "metadata": {},
   "outputs": [
    {
     "data": {
      "text/plain": [
       "BartlettResult(statistic=19.16290245401887, pvalue=0.00025299250421302756)"
      ]
     },
     "execution_count": 19,
     "metadata": {},
     "output_type": "execute_result"
    }
   ],
   "source": [
    "#등분산성(bartlett)\n",
    "from scipy.stats import  bartlett\n",
    "\n",
    "bartlett(up['sad'],down['sad'],out['sad'],stable['sad'])"
   ]
  },
  {
   "cell_type": "markdown",
   "metadata": {},
   "source": [
    "welch-anova(이분산성이므로)"
   ]
  },
  {
   "cell_type": "code",
   "execution_count": 21,
   "metadata": {},
   "outputs": [
    {
     "data": {
      "text/html": [
       "<div>\n",
       "<style scoped>\n",
       "    .dataframe tbody tr th:only-of-type {\n",
       "        vertical-align: middle;\n",
       "    }\n",
       "\n",
       "    .dataframe tbody tr th {\n",
       "        vertical-align: top;\n",
       "    }\n",
       "\n",
       "    .dataframe thead th {\n",
       "        text-align: right;\n",
       "    }\n",
       "</style>\n",
       "<table border=\"1\" class=\"dataframe\">\n",
       "  <thead>\n",
       "    <tr style=\"text-align: right;\">\n",
       "      <th></th>\n",
       "      <th>Source</th>\n",
       "      <th>ddof1</th>\n",
       "      <th>ddof2</th>\n",
       "      <th>F</th>\n",
       "      <th>p-unc</th>\n",
       "      <th>np2</th>\n",
       "    </tr>\n",
       "  </thead>\n",
       "  <tbody>\n",
       "    <tr>\n",
       "      <th>0</th>\n",
       "      <td>money</td>\n",
       "      <td>3</td>\n",
       "      <td>325.184793</td>\n",
       "      <td>32.571207</td>\n",
       "      <td>1.960995e-18</td>\n",
       "      <td>0.017484</td>\n",
       "    </tr>\n",
       "  </tbody>\n",
       "</table>\n",
       "</div>"
      ],
      "text/plain": [
       "  Source  ddof1       ddof2          F         p-unc       np2\n",
       "0  money      3  325.184793  32.571207  1.960995e-18  0.017484"
      ]
     },
     "execution_count": 21,
     "metadata": {},
     "output_type": "execute_result"
    }
   ],
   "source": [
    "import pingouin as pg\n",
    "\n",
    "pg.welch_anova(dv = 'sad', between = 'money', data = df)"
   ]
  },
  {
   "cell_type": "markdown",
   "metadata": {},
   "source": [
    "사후분석(아노바 결과 차이가 있다 나왔으므로)"
   ]
  },
  {
   "cell_type": "code",
   "execution_count": 25,
   "metadata": {},
   "outputs": [
    {
     "data": {
      "text/html": [
       "<div>\n",
       "<style scoped>\n",
       "    .dataframe tbody tr th:only-of-type {\n",
       "        vertical-align: middle;\n",
       "    }\n",
       "\n",
       "    .dataframe tbody tr th {\n",
       "        vertical-align: top;\n",
       "    }\n",
       "\n",
       "    .dataframe thead th {\n",
       "        text-align: right;\n",
       "    }\n",
       "</style>\n",
       "<table border=\"1\" class=\"dataframe\">\n",
       "  <thead>\n",
       "    <tr style=\"text-align: right;\">\n",
       "      <th></th>\n",
       "      <th>A</th>\n",
       "      <th>B</th>\n",
       "      <th>mean(A)</th>\n",
       "      <th>mean(B)</th>\n",
       "      <th>diff</th>\n",
       "      <th>se</th>\n",
       "      <th>T</th>\n",
       "      <th>df</th>\n",
       "      <th>pval</th>\n",
       "      <th>hedges</th>\n",
       "    </tr>\n",
       "  </thead>\n",
       "  <tbody>\n",
       "    <tr>\n",
       "      <th>0</th>\n",
       "      <td>변호없음</td>\n",
       "      <td>상승</td>\n",
       "      <td>5.140389</td>\n",
       "      <td>5.169492</td>\n",
       "      <td>-0.029103</td>\n",
       "      <td>0.199940</td>\n",
       "      <td>-0.145558</td>\n",
       "      <td>125.626390</td>\n",
       "      <td>9.988948e-01</td>\n",
       "      <td>-0.013609</td>\n",
       "    </tr>\n",
       "    <tr>\n",
       "      <th>1</th>\n",
       "      <td>변호없음</td>\n",
       "      <td>하강</td>\n",
       "      <td>5.140389</td>\n",
       "      <td>5.865571</td>\n",
       "      <td>-0.725182</td>\n",
       "      <td>0.074418</td>\n",
       "      <td>-9.744753</td>\n",
       "      <td>1791.243821</td>\n",
       "      <td>4.926060e-13</td>\n",
       "      <td>-0.342692</td>\n",
       "    </tr>\n",
       "    <tr>\n",
       "      <th>2</th>\n",
       "      <td>변호없음</td>\n",
       "      <td>해고 및 폐업</td>\n",
       "      <td>5.140389</td>\n",
       "      <td>5.659722</td>\n",
       "      <td>-0.519333</td>\n",
       "      <td>0.213782</td>\n",
       "      <td>-2.429270</td>\n",
       "      <td>152.159129</td>\n",
       "      <td>7.590171e-02</td>\n",
       "      <td>-0.206297</td>\n",
       "    </tr>\n",
       "    <tr>\n",
       "      <th>3</th>\n",
       "      <td>상승</td>\n",
       "      <td>하강</td>\n",
       "      <td>5.169492</td>\n",
       "      <td>5.865571</td>\n",
       "      <td>-0.696079</td>\n",
       "      <td>0.206684</td>\n",
       "      <td>-3.367836</td>\n",
       "      <td>143.273945</td>\n",
       "      <td>5.323276e-03</td>\n",
       "      <td>-0.327034</td>\n",
       "    </tr>\n",
       "    <tr>\n",
       "      <th>4</th>\n",
       "      <td>상승</td>\n",
       "      <td>해고 및 폐업</td>\n",
       "      <td>5.169492</td>\n",
       "      <td>5.659722</td>\n",
       "      <td>-0.490231</td>\n",
       "      <td>0.287894</td>\n",
       "      <td>-1.702816</td>\n",
       "      <td>259.749387</td>\n",
       "      <td>3.242786e-01</td>\n",
       "      <td>-0.210834</td>\n",
       "    </tr>\n",
       "    <tr>\n",
       "      <th>5</th>\n",
       "      <td>하강</td>\n",
       "      <td>해고 및 폐업</td>\n",
       "      <td>5.865571</td>\n",
       "      <td>5.659722</td>\n",
       "      <td>0.205848</td>\n",
       "      <td>0.220103</td>\n",
       "      <td>0.935238</td>\n",
       "      <td>170.768910</td>\n",
       "      <td>7.859508e-01</td>\n",
       "      <td>0.083134</td>\n",
       "    </tr>\n",
       "  </tbody>\n",
       "</table>\n",
       "</div>"
      ],
      "text/plain": [
       "      A        B   mean(A)   mean(B)      diff        se         T  \\\n",
       "0  변호없음       상승  5.140389  5.169492 -0.029103  0.199940 -0.145558   \n",
       "1  변호없음       하강  5.140389  5.865571 -0.725182  0.074418 -9.744753   \n",
       "2  변호없음  해고 및 폐업  5.140389  5.659722 -0.519333  0.213782 -2.429270   \n",
       "3    상승       하강  5.169492  5.865571 -0.696079  0.206684 -3.367836   \n",
       "4    상승  해고 및 폐업  5.169492  5.659722 -0.490231  0.287894 -1.702816   \n",
       "5    하강  해고 및 폐업  5.865571  5.659722  0.205848  0.220103  0.935238   \n",
       "\n",
       "            df          pval    hedges  \n",
       "0   125.626390  9.988948e-01 -0.013609  \n",
       "1  1791.243821  4.926060e-13 -0.342692  \n",
       "2   152.159129  7.590171e-02 -0.206297  \n",
       "3   143.273945  5.323276e-03 -0.327034  \n",
       "4   259.749387  3.242786e-01 -0.210834  \n",
       "5   170.768910  7.859508e-01  0.083134  "
      ]
     },
     "execution_count": 25,
     "metadata": {},
     "output_type": "execute_result"
    }
   ],
   "source": [
    "post=pg.pairwise_gameshowell(dv = 'sad', between = 'money', data = df)\n",
    "post"
   ]
  },
  {
   "cell_type": "code",
   "execution_count": 26,
   "metadata": {},
   "outputs": [
    {
     "data": {
      "text/html": [
       "<table class=\"simpletable\">\n",
       "<caption>Test Multiple Comparison ttest_ind \n",
       "FWER=0.05 method=bonf\n",
       "alphacSidak=0.01, alphacBonf=0.008</caption>\n",
       "<tr>\n",
       "  <th>group1</th> <th>group2</th>   <th>stat</th>    <th>pval</th>  <th>pval_corr</th> <th>reject</th>\n",
       "</tr>\n",
       "<tr>\n",
       "   <td>변호없음</td>    <td>상승</td>    <td>-0.137</td>   <td>0.891</td>    <td>1.0</td>     <td>False</td>\n",
       "</tr>\n",
       "<tr>\n",
       "   <td>변호없음</td>    <td>하강</td>    <td>-9.2375</td>   <td>0.0</td>     <td>0.0</td>     <td>True</td> \n",
       "</tr>\n",
       "<tr>\n",
       "   <td>변호없음</td>  <td>해고 및 폐업</td> <td>-2.6757</td> <td>0.0075</td>  <td>0.0449</td>    <td>True</td> \n",
       "</tr>\n",
       "<tr>\n",
       "    <td>상승</td>     <td>하강</td>    <td>-3.4512</td> <td>0.0006</td>  <td>0.0035</td>    <td>True</td> \n",
       "</tr>\n",
       "<tr>\n",
       "    <td>상승</td>   <td>해고 및 폐업</td> <td>-1.6747</td> <td>0.0952</td>  <td>0.5712</td>    <td>False</td>\n",
       "</tr>\n",
       "<tr>\n",
       "    <td>하강</td>   <td>해고 및 폐업</td> <td>1.0866</td>  <td>0.2774</td>    <td>1.0</td>     <td>False</td>\n",
       "</tr>\n",
       "</table>"
      ],
      "text/plain": [
       "<class 'statsmodels.iolib.table.SimpleTable'>"
      ]
     },
     "execution_count": 26,
     "metadata": {},
     "output_type": "execute_result"
    }
   ],
   "source": [
    "from statsmodels.sandbox.stats.multicomp import MultiComparison\n",
    "import scipy.stats\n",
    "\n",
    "comp = MultiComparison(df.sad, df.money)\n",
    "result = comp.allpairtest(scipy.stats.ttest_ind, method='bonf')\n",
    "result[0]"
   ]
  },
  {
   "cell_type": "code",
   "execution_count": 27,
   "metadata": {},
   "outputs": [
    {
     "data": {
      "text/html": [
       "<table class=\"simpletable\">\n",
       "<caption>Multiple Comparison of Means - Tukey HSD, FWER=0.05</caption>\n",
       "<tr>\n",
       "  <th>group1</th> <th>group2</th>  <th>meandiff</th>  <th>p-adj</th>  <th>lower</th>   <th>upper</th> <th>reject</th>\n",
       "</tr>\n",
       "<tr>\n",
       "   <td>변호없음</td>    <td>상승</td>     <td>0.0291</td>   <td>0.999</td> <td>-0.5089</td> <td>0.5671</td>  <td>False</td>\n",
       "</tr>\n",
       "<tr>\n",
       "   <td>변호없음</td>    <td>하강</td>     <td>0.7252</td>   <td>-0.0</td>  <td>0.5228</td>  <td>0.9275</td>  <td>True</td> \n",
       "</tr>\n",
       "<tr>\n",
       "   <td>변호없음</td>  <td>해고 및 폐업</td>  <td>0.5193</td>  <td>0.0321</td> <td>0.0307</td>   <td>1.008</td>  <td>True</td> \n",
       "</tr>\n",
       "<tr>\n",
       "    <td>상승</td>     <td>하강</td>     <td>0.6961</td>  <td>0.0076</td> <td>0.1371</td>  <td>1.2551</td>  <td>True</td> \n",
       "</tr>\n",
       "<tr>\n",
       "    <td>상승</td>   <td>해고 및 폐업</td>  <td>0.4902</td>  <td>0.2912</td> <td>-0.2242</td> <td>1.2046</td>  <td>False</td>\n",
       "</tr>\n",
       "<tr>\n",
       "    <td>하강</td>   <td>해고 및 폐업</td>  <td>-0.2058</td> <td>0.7296</td> <td>-0.7176</td> <td>0.3059</td>  <td>False</td>\n",
       "</tr>\n",
       "</table>"
      ],
      "text/plain": [
       "<class 'statsmodels.iolib.table.SimpleTable'>"
      ]
     },
     "execution_count": 27,
     "metadata": {},
     "output_type": "execute_result"
    }
   ],
   "source": [
    "from statsmodels.stats.multicomp import pairwise_tukeyhsd\n",
    "\n",
    "hsd = pairwise_tukeyhsd(df['sad'], df['money'], alpha=0.05)\n",
    "hsd.summary()"
   ]
  },
  {
   "cell_type": "code",
   "execution_count": 30,
   "metadata": {},
   "outputs": [
    {
     "data": {
      "image/png": "[encoded data removed]",
      "text/plain": [
       "<Figure size 720x432 with 1 Axes>"
      ]
     },
     "metadata": {
      "needs_background": "light"
     },
     "output_type": "display_data"
    }
   ],
   "source": [
    "fig = hsd.plot_simultaneous()\n",
    "plt.show()"
   ]
  },
  {
   "cell_type": "markdown",
   "metadata": {},
   "source": [
    "회귀모형"
   ]
  },
  {
   "cell_type": "code",
   "execution_count": 29,
   "metadata": {},
   "outputs": [
    {
     "data": {
      "text/html": [
       "<table class=\"simpletable\">\n",
       "<caption>OLS Regression Results</caption>\n",
       "<tr>\n",
       "  <th>Dep. Variable:</th>           <td>sad</td>       <th>  R-squared:         </th> <td>   0.017</td> \n",
       "</tr>\n",
       "<tr>\n",
       "  <th>Model:</th>                   <td>OLS</td>       <th>  Adj. R-squared:    </th> <td>   0.017</td> \n",
       "</tr>\n",
       "<tr>\n",
       "  <th>Method:</th>             <td>Least Squares</td>  <th>  F-statistic:       </th> <td>   29.64</td> \n",
       "</tr>\n",
       "<tr>\n",
       "  <th>Date:</th>             <td>Thu, 29 Sep 2022</td> <th>  Prob (F-statistic):</th> <td>5.51e-19</td> \n",
       "</tr>\n",
       "<tr>\n",
       "  <th>Time:</th>                 <td>11:25:37</td>     <th>  Log-Likelihood:    </th> <td> -11122.</td> \n",
       "</tr>\n",
       "<tr>\n",
       "  <th>No. Observations:</th>      <td>  5000</td>      <th>  AIC:               </th> <td>2.225e+04</td>\n",
       "</tr>\n",
       "<tr>\n",
       "  <th>Df Residuals:</th>          <td>  4996</td>      <th>  BIC:               </th> <td>2.228e+04</td>\n",
       "</tr>\n",
       "<tr>\n",
       "  <th>Df Model:</th>              <td>     3</td>      <th>                     </th>     <td> </td>    \n",
       "</tr>\n",
       "<tr>\n",
       "  <th>Covariance Type:</th>      <td>nonrobust</td>    <th>                     </th>     <td> </td>    \n",
       "</tr>\n",
       "</table>\n",
       "<table class=\"simpletable\">\n",
       "<tr>\n",
       "          <td></td>            <th>coef</th>     <th>std err</th>      <th>t</th>      <th>P>|t|</th>  <th>[0.025</th>    <th>0.975]</th>  \n",
       "</tr>\n",
       "<tr>\n",
       "  <th>Intercept</th>        <td>    5.1404</td> <td>    0.037</td> <td>  139.746</td> <td> 0.000</td> <td>    5.068</td> <td>    5.213</td>\n",
       "</tr>\n",
       "<tr>\n",
       "  <th>money[T.상승]</th>      <td>    0.0291</td> <td>    0.209</td> <td>    0.139</td> <td> 0.889</td> <td>   -0.381</td> <td>    0.440</td>\n",
       "</tr>\n",
       "<tr>\n",
       "  <th>money[T.하강]</th>      <td>    0.7252</td> <td>    0.079</td> <td>    9.210</td> <td> 0.000</td> <td>    0.571</td> <td>    0.880</td>\n",
       "</tr>\n",
       "<tr>\n",
       "  <th>money[T.해고 및 폐업]</th> <td>    0.5193</td> <td>    0.190</td> <td>    2.731</td> <td> 0.006</td> <td>    0.147</td> <td>    0.892</td>\n",
       "</tr>\n",
       "</table>\n",
       "<table class=\"simpletable\">\n",
       "<tr>\n",
       "  <th>Omnibus:</th>       <td>213.213</td> <th>  Durbin-Watson:     </th> <td>   1.453</td>\n",
       "</tr>\n",
       "<tr>\n",
       "  <th>Prob(Omnibus):</th> <td> 0.000</td>  <th>  Jarque-Bera (JB):  </th> <td> 231.596</td>\n",
       "</tr>\n",
       "<tr>\n",
       "  <th>Skew:</th>          <td>-0.510</td>  <th>  Prob(JB):          </th> <td>5.12e-51</td>\n",
       "</tr>\n",
       "<tr>\n",
       "  <th>Kurtosis:</th>      <td> 2.736</td>  <th>  Cond. No.          </th> <td>    6.81</td>\n",
       "</tr>\n",
       "</table><br/><br/>Notes:<br/>[1] Standard Errors assume that the covariance matrix of the errors is correctly specified."
      ],
      "text/plain": [
       "<class 'statsmodels.iolib.summary.Summary'>\n",
       "\"\"\"\n",
       "                            OLS Regression Results                            \n",
       "==============================================================================\n",
       "Dep. Variable:                    sad   R-squared:                       0.017\n",
       "Model:                            OLS   Adj. R-squared:                  0.017\n",
       "Method:                 Least Squares   F-statistic:                     29.64\n",
       "Date:                Thu, 29 Sep 2022   Prob (F-statistic):           5.51e-19\n",
       "Time:                        11:25:37   Log-Likelihood:                -11122.\n",
       "No. Observations:                5000   AIC:                         2.225e+04\n",
       "Df Residuals:                    4996   BIC:                         2.228e+04\n",
       "Df Model:                           3                                         \n",
       "Covariance Type:            nonrobust                                         \n",
       "====================================================================================\n",
       "                       coef    std err          t      P>|t|      [0.025      0.975]\n",
       "------------------------------------------------------------------------------------\n",
       "Intercept            5.1404      0.037    139.746      0.000       5.068       5.213\n",
       "money[T.상승]          0.0291      0.209      0.139      0.889      -0.381       0.440\n",
       "money[T.하강]          0.7252      0.079      9.210      0.000       0.571       0.880\n",
       "money[T.해고 및 폐업]     0.5193      0.190      2.731      0.006       0.147       0.892\n",
       "==============================================================================\n",
       "Omnibus:                      213.213   Durbin-Watson:                   1.453\n",
       "Prob(Omnibus):                  0.000   Jarque-Bera (JB):              231.596\n",
       "Skew:                          -0.510   Prob(JB):                     5.12e-51\n",
       "Kurtosis:                       2.736   Cond. No.                         6.81\n",
       "==============================================================================\n",
       "\n",
       "Notes:\n",
       "[1] Standard Errors assume that the covariance matrix of the errors is correctly specified.\n",
       "\"\"\""
      ]
     },
     "execution_count": 29,
     "metadata": {},
     "output_type": "execute_result"
    }
   ],
   "source": [
    "\n",
    "import statsmodels.formula.api as sm \n",
    "\n",
    "\n",
    "model = sm.ols(formula = 'sad ~ money',data=df).fit() \n",
    "model.summary()"
   ]
  }
 ],
 "metadata": {
  "kernelspec": {
   "display_name": "Python 3.10.5 ('lee': venv)",
   "language": "python",
   "name": "python3"
  },
  "language_info": {
   "codemirror_mode": {
    "name": "ipython",
    "version": 3
   },
   "file_extension": ".py",
   "mimetype": "text/x-python",
   "name": "python",
   "nbconvert_exporter": "python",
   "pygments_lexer": "ipython3",
   "version": "3.10.5"
  },
  "orig_nbformat": 4,
  "vscode": {
   "interpreter": {
    "hash": "04920c20da418648ae548ffbd5893e28e2335b186b692cea5d86387eff3268d3"
   }
  }
 },
 "nbformat": 4,
 "nbformat_minor": 2
}
