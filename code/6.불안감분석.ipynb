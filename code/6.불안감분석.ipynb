{
 "cells": [
  {
   "cell_type": "code",
   "execution_count": 1,
   "metadata": {},
   "outputs": [],
   "source": [
    "import cv2\n",
    "import matplotlib.pyplot as plt\n",
    "import matplotlib.image as img\n",
    "import pandas as pd\n",
    "df = pd.read_csv('C:/Users/dlwnr/a/thesis_code/use.csv', index_col=0)"
   ]
  },
  {
   "cell_type": "code",
   "execution_count": 3,
   "metadata": {},
   "outputs": [
    {
     "data": {
      "text/html": [
       "<div>\n",
       "<style scoped>\n",
       "    .dataframe tbody tr th:only-of-type {\n",
       "        vertical-align: middle;\n",
       "    }\n",
       "\n",
       "    .dataframe tbody tr th {\n",
       "        vertical-align: top;\n",
       "    }\n",
       "\n",
       "    .dataframe thead th {\n",
       "        text-align: right;\n",
       "    }\n",
       "</style>\n",
       "<table border=\"1\" class=\"dataframe\">\n",
       "  <thead>\n",
       "    <tr style=\"text-align: right;\">\n",
       "      <th></th>\n",
       "      <th>sad</th>\n",
       "      <th>sex</th>\n",
       "      <th>money</th>\n",
       "      <th>age</th>\n",
       "      <th>school</th>\n",
       "      <th>jobhome</th>\n",
       "      <th>anxiety</th>\n",
       "      <th>sns</th>\n",
       "    </tr>\n",
       "  </thead>\n",
       "  <tbody>\n",
       "    <tr>\n",
       "      <th>0</th>\n",
       "      <td>5</td>\n",
       "      <td>남</td>\n",
       "      <td>하강</td>\n",
       "      <td>46</td>\n",
       "      <td>대학교</td>\n",
       "      <td>경험 있음</td>\n",
       "      <td>비슷하다</td>\n",
       "      <td>0.428571</td>\n",
       "    </tr>\n",
       "    <tr>\n",
       "      <th>1</th>\n",
       "      <td>6</td>\n",
       "      <td>여</td>\n",
       "      <td>변호없음</td>\n",
       "      <td>59</td>\n",
       "      <td>대학교</td>\n",
       "      <td>경험 있음</td>\n",
       "      <td>커진다</td>\n",
       "      <td>10.000000</td>\n",
       "    </tr>\n",
       "    <tr>\n",
       "      <th>2</th>\n",
       "      <td>6</td>\n",
       "      <td>여</td>\n",
       "      <td>변호없음</td>\n",
       "      <td>67</td>\n",
       "      <td>대학교</td>\n",
       "      <td>일을 안함</td>\n",
       "      <td>커진다</td>\n",
       "      <td>5.000000</td>\n",
       "    </tr>\n",
       "    <tr>\n",
       "      <th>3</th>\n",
       "      <td>8</td>\n",
       "      <td>남</td>\n",
       "      <td>하강</td>\n",
       "      <td>63</td>\n",
       "      <td>대학교</td>\n",
       "      <td>경험 없음</td>\n",
       "      <td>커진다</td>\n",
       "      <td>5.000000</td>\n",
       "    </tr>\n",
       "    <tr>\n",
       "      <th>4</th>\n",
       "      <td>6</td>\n",
       "      <td>여</td>\n",
       "      <td>하강</td>\n",
       "      <td>37</td>\n",
       "      <td>대학교</td>\n",
       "      <td>경험 없음</td>\n",
       "      <td>비슷하다</td>\n",
       "      <td>7.000000</td>\n",
       "    </tr>\n",
       "    <tr>\n",
       "      <th>...</th>\n",
       "      <td>...</td>\n",
       "      <td>...</td>\n",
       "      <td>...</td>\n",
       "      <td>...</td>\n",
       "      <td>...</td>\n",
       "      <td>...</td>\n",
       "      <td>...</td>\n",
       "      <td>...</td>\n",
       "    </tr>\n",
       "    <tr>\n",
       "      <th>4995</th>\n",
       "      <td>10</td>\n",
       "      <td>남</td>\n",
       "      <td>해고 및 폐업</td>\n",
       "      <td>24</td>\n",
       "      <td>대학교</td>\n",
       "      <td>경험 있음</td>\n",
       "      <td>줄어든다</td>\n",
       "      <td>10.000000</td>\n",
       "    </tr>\n",
       "    <tr>\n",
       "      <th>4996</th>\n",
       "      <td>10</td>\n",
       "      <td>남</td>\n",
       "      <td>하강</td>\n",
       "      <td>20</td>\n",
       "      <td>대학교</td>\n",
       "      <td>일을 안함</td>\n",
       "      <td>커진다</td>\n",
       "      <td>5.000000</td>\n",
       "    </tr>\n",
       "    <tr>\n",
       "      <th>4997</th>\n",
       "      <td>6</td>\n",
       "      <td>여</td>\n",
       "      <td>변호없음</td>\n",
       "      <td>28</td>\n",
       "      <td>대학교</td>\n",
       "      <td>경험 있음</td>\n",
       "      <td>비슷하다</td>\n",
       "      <td>0.142857</td>\n",
       "    </tr>\n",
       "    <tr>\n",
       "      <th>4998</th>\n",
       "      <td>1</td>\n",
       "      <td>여</td>\n",
       "      <td>변호없음</td>\n",
       "      <td>51</td>\n",
       "      <td>대학교</td>\n",
       "      <td>경험 있음</td>\n",
       "      <td>커진다</td>\n",
       "      <td>3.000000</td>\n",
       "    </tr>\n",
       "    <tr>\n",
       "      <th>4999</th>\n",
       "      <td>8</td>\n",
       "      <td>여</td>\n",
       "      <td>변호없음</td>\n",
       "      <td>28</td>\n",
       "      <td>대학교</td>\n",
       "      <td>경험 없음</td>\n",
       "      <td>비슷하다</td>\n",
       "      <td>10.000000</td>\n",
       "    </tr>\n",
       "  </tbody>\n",
       "</table>\n",
       "<p>5000 rows × 8 columns</p>\n",
       "</div>"
      ],
      "text/plain": [
       "      sad sex    money  age school jobhome anxiety        sns\n",
       "0       5   남       하강   46    대학교   경험 있음    비슷하다   0.428571\n",
       "1       6   여     변호없음   59    대학교   경험 있음     커진다  10.000000\n",
       "2       6   여     변호없음   67    대학교   일을 안함     커진다   5.000000\n",
       "3       8   남       하강   63    대학교   경험 없음     커진다   5.000000\n",
       "4       6   여       하강   37    대학교   경험 없음    비슷하다   7.000000\n",
       "...   ...  ..      ...  ...    ...     ...     ...        ...\n",
       "4995   10   남  해고 및 폐업   24    대학교   경험 있음    줄어든다  10.000000\n",
       "4996   10   남       하강   20    대학교   일을 안함     커진다   5.000000\n",
       "4997    6   여     변호없음   28    대학교   경험 있음    비슷하다   0.142857\n",
       "4998    1   여     변호없음   51    대학교   경험 있음     커진다   3.000000\n",
       "4999    8   여     변호없음   28    대학교   경험 없음    비슷하다  10.000000\n",
       "\n",
       "[5000 rows x 8 columns]"
      ]
     },
     "execution_count": 3,
     "metadata": {},
     "output_type": "execute_result"
    }
   ],
   "source": [
    "df"
   ]
  },
  {
   "cell_type": "code",
   "execution_count": 5,
   "metadata": {},
   "outputs": [],
   "source": [
    "up = df[df['anxiety']=='커진다']\n",
    "stable = df[df['anxiety']=='비슷하다']\n",
    "down = df[df['anxiety']=='줄어든다']"
   ]
  },
  {
   "cell_type": "code",
   "execution_count": 6,
   "metadata": {},
   "outputs": [
    {
     "data": {
      "text/plain": [
       "count    1978.000000\n",
       "mean        5.618301\n",
       "std         2.250253\n",
       "min         0.000000\n",
       "25%         5.000000\n",
       "50%         6.000000\n",
       "75%         7.000000\n",
       "max        10.000000\n",
       "Name: sad, dtype: float64"
      ]
     },
     "execution_count": 6,
     "metadata": {},
     "output_type": "execute_result"
    }
   ],
   "source": [
    "up['sad'].describe()"
   ]
  },
  {
   "cell_type": "code",
   "execution_count": 7,
   "metadata": {},
   "outputs": [
    {
     "data": {
      "text/plain": [
       "count    2319.000000\n",
       "mean        5.141440\n",
       "std         2.209831\n",
       "min         0.000000\n",
       "25%         4.000000\n",
       "50%         5.000000\n",
       "75%         7.000000\n",
       "max        10.000000\n",
       "Name: sad, dtype: float64"
      ]
     },
     "execution_count": 7,
     "metadata": {},
     "output_type": "execute_result"
    }
   ],
   "source": [
    "stable['sad'].describe()"
   ]
  },
  {
   "cell_type": "code",
   "execution_count": 9,
   "metadata": {},
   "outputs": [
    {
     "data": {
      "text/plain": [
       "count    703.000000\n",
       "mean       4.970128\n",
       "std        2.332226\n",
       "min        0.000000\n",
       "25%        3.000000\n",
       "50%        5.000000\n",
       "75%        7.000000\n",
       "max       10.000000\n",
       "Name: sad, dtype: float64"
      ]
     },
     "execution_count": 9,
     "metadata": {},
     "output_type": "execute_result"
    }
   ],
   "source": [
    "down['sad'].describe()"
   ]
  },
  {
   "cell_type": "code",
   "execution_count": 10,
   "metadata": {},
   "outputs": [
    {
     "name": "stdout",
     "output_type": "stream",
     "text": [
      "['NanumGothic']\n"
     ]
    },
    {
     "data": {
      "image/png": "[encoded data removed]",
      "text/plain": [
       "<Figure size 432x288 with 1 Axes>"
      ]
     },
     "metadata": {
      "needs_background": "light"
     },
     "output_type": "display_data"
    }
   ],
   "source": [
    "import matplotlib.pyplot as plt\n",
    "\n",
    "\n",
    "# matplotlib 폰트설정\n",
    "# plt.rc('font', family='NanumGothicOTF') # For MacOS\n",
    "plt.rc('font', family='NanumGothic') # For Windows\n",
    "print(plt.rcParams['font.family'])\n",
    "\n",
    "%matplotlib inline\n",
    "# 브라우저에서 바로 이미지를 그린다.\n",
    "\n",
    "\n",
    "plt.boxplot([up['sad'], stable['sad'], down['sad']],\n",
    "    labels=['up', 'stable', 'down'], showmeans=True)\n",
    "plt.show()\n"
   ]
  },
  {
   "cell_type": "code",
   "execution_count": 11,
   "metadata": {},
   "outputs": [
    {
     "name": "stdout",
     "output_type": "stream",
     "text": [
      "ShapiroResult(statistic=0.9471489191055298, pvalue=4.4863342437191184e-26)\n",
      "ShapiroResult(statistic=0.9455634951591492, pvalue=1.8636954441643067e-28)\n",
      "ShapiroResult(statistic=0.9592821598052979, pvalue=4.729088756878774e-13)\n"
     ]
    }
   ],
   "source": [
    "from scipy.stats import  shapiro\n",
    "\n",
    "#정규성\n",
    "\n",
    "print(shapiro(up['sad']))\n",
    "\n",
    "print(shapiro(stable['sad']))\n",
    "\n",
    "print(shapiro(down['sad']))\n",
    "\n",
    "\n",
    "\n"
   ]
  },
  {
   "cell_type": "code",
   "execution_count": 15,
   "metadata": {},
   "outputs": [
    {
     "data": {
      "text/html": [
       "<div>\n",
       "<style scoped>\n",
       "    .dataframe tbody tr th:only-of-type {\n",
       "        vertical-align: middle;\n",
       "    }\n",
       "\n",
       "    .dataframe tbody tr th {\n",
       "        vertical-align: top;\n",
       "    }\n",
       "\n",
       "    .dataframe thead th {\n",
       "        text-align: right;\n",
       "    }\n",
       "</style>\n",
       "<table border=\"1\" class=\"dataframe\">\n",
       "  <thead>\n",
       "    <tr style=\"text-align: right;\">\n",
       "      <th></th>\n",
       "      <th>W</th>\n",
       "      <th>pval</th>\n",
       "      <th>normal</th>\n",
       "    </tr>\n",
       "  </thead>\n",
       "  <tbody>\n",
       "    <tr>\n",
       "      <th>sad</th>\n",
       "      <td>0.947149</td>\n",
       "      <td>4.486334e-26</td>\n",
       "      <td>False</td>\n",
       "    </tr>\n",
       "  </tbody>\n",
       "</table>\n",
       "</div>"
      ],
      "text/plain": [
       "            W          pval  normal\n",
       "sad  0.947149  4.486334e-26   False"
      ]
     },
     "execution_count": 15,
     "metadata": {},
     "output_type": "execute_result"
    }
   ],
   "source": [
    "import pingouin as pg\n",
    "pg.normality(up['sad'])"
   ]
  },
  {
   "cell_type": "code",
   "execution_count": 12,
   "metadata": {},
   "outputs": [
    {
     "data": {
      "text/plain": [
       "LeveneResult(statistic=2.652056242235961, pvalue=0.07060532499380492)"
      ]
     },
     "execution_count": 12,
     "metadata": {},
     "output_type": "execute_result"
    }
   ],
   "source": [
    "#등분산성(levene)\n",
    "from scipy.stats import  levene\n",
    "\n",
    "levene(up['sad'],stable['sad'], down['sad'])"
   ]
  },
  {
   "cell_type": "markdown",
   "metadata": {},
   "source": [
    "아노바"
   ]
  },
  {
   "cell_type": "code",
   "execution_count": 14,
   "metadata": {},
   "outputs": [
    {
     "data": {
      "text/html": [
       "<div>\n",
       "<style scoped>\n",
       "    .dataframe tbody tr th:only-of-type {\n",
       "        vertical-align: middle;\n",
       "    }\n",
       "\n",
       "    .dataframe tbody tr th {\n",
       "        vertical-align: top;\n",
       "    }\n",
       "\n",
       "    .dataframe thead th {\n",
       "        text-align: right;\n",
       "    }\n",
       "</style>\n",
       "<table border=\"1\" class=\"dataframe\">\n",
       "  <thead>\n",
       "    <tr style=\"text-align: right;\">\n",
       "      <th></th>\n",
       "      <th>Source</th>\n",
       "      <th>ddof1</th>\n",
       "      <th>ddof2</th>\n",
       "      <th>F</th>\n",
       "      <th>p-unc</th>\n",
       "      <th>np2</th>\n",
       "    </tr>\n",
       "  </thead>\n",
       "  <tbody>\n",
       "    <tr>\n",
       "      <th>0</th>\n",
       "      <td>anxiety</td>\n",
       "      <td>2</td>\n",
       "      <td>4997</td>\n",
       "      <td>33.284018</td>\n",
       "      <td>4.368881e-15</td>\n",
       "      <td>0.013146</td>\n",
       "    </tr>\n",
       "  </tbody>\n",
       "</table>\n",
       "</div>"
      ],
      "text/plain": [
       "    Source  ddof1  ddof2          F         p-unc       np2\n",
       "0  anxiety      2   4997  33.284018  4.368881e-15  0.013146"
      ]
     },
     "execution_count": 14,
     "metadata": {},
     "output_type": "execute_result"
    }
   ],
   "source": [
    "import pingouin as pg\n",
    "pg.anova(dv = 'sad', between = 'anxiety', data = df)"
   ]
  },
  {
   "cell_type": "code",
   "execution_count": 17,
   "metadata": {},
   "outputs": [
    {
     "data": {
      "text/html": [
       "<div>\n",
       "<style scoped>\n",
       "    .dataframe tbody tr th:only-of-type {\n",
       "        vertical-align: middle;\n",
       "    }\n",
       "\n",
       "    .dataframe tbody tr th {\n",
       "        vertical-align: top;\n",
       "    }\n",
       "\n",
       "    .dataframe thead th {\n",
       "        text-align: right;\n",
       "    }\n",
       "</style>\n",
       "<table border=\"1\" class=\"dataframe\">\n",
       "  <thead>\n",
       "    <tr style=\"text-align: right;\">\n",
       "      <th></th>\n",
       "      <th>df</th>\n",
       "      <th>sum_sq</th>\n",
       "      <th>mean_sq</th>\n",
       "      <th>F</th>\n",
       "      <th>PR(&gt;F)</th>\n",
       "    </tr>\n",
       "  </thead>\n",
       "  <tbody>\n",
       "    <tr>\n",
       "      <th>C(anxiety)</th>\n",
       "      <td>2.0</td>\n",
       "      <td>335.02223</td>\n",
       "      <td>167.511115</td>\n",
       "      <td>33.284018</td>\n",
       "      <td>4.368881e-15</td>\n",
       "    </tr>\n",
       "    <tr>\n",
       "      <th>Residual</th>\n",
       "      <td>4997.0</td>\n",
       "      <td>25148.79777</td>\n",
       "      <td>5.032779</td>\n",
       "      <td>NaN</td>\n",
       "      <td>NaN</td>\n",
       "    </tr>\n",
       "  </tbody>\n",
       "</table>\n",
       "</div>"
      ],
      "text/plain": [
       "                df       sum_sq     mean_sq          F        PR(>F)\n",
       "C(anxiety)     2.0    335.02223  167.511115  33.284018  4.368881e-15\n",
       "Residual    4997.0  25148.79777    5.032779        NaN           NaN"
      ]
     },
     "execution_count": 17,
     "metadata": {},
     "output_type": "execute_result"
    }
   ],
   "source": [
    "from statsmodels.formula.api import ols\n",
    "from statsmodels.stats.anova import anova_lm\n",
    "\n",
    "model = ols('sad ~ C(anxiety)',df).fit()\n",
    "anova_lm(model)"
   ]
  },
  {
   "cell_type": "markdown",
   "metadata": {},
   "source": [
    "사후분석\n"
   ]
  },
  {
   "cell_type": "code",
   "execution_count": 22,
   "metadata": {},
   "outputs": [
    {
     "data": {
      "text/html": [
       "<div>\n",
       "<style scoped>\n",
       "    .dataframe tbody tr th:only-of-type {\n",
       "        vertical-align: middle;\n",
       "    }\n",
       "\n",
       "    .dataframe tbody tr th {\n",
       "        vertical-align: top;\n",
       "    }\n",
       "\n",
       "    .dataframe thead th {\n",
       "        text-align: right;\n",
       "    }\n",
       "</style>\n",
       "<table border=\"1\" class=\"dataframe\">\n",
       "  <thead>\n",
       "    <tr style=\"text-align: right;\">\n",
       "      <th></th>\n",
       "      <th>A</th>\n",
       "      <th>B</th>\n",
       "      <th>mean(A)</th>\n",
       "      <th>mean(B)</th>\n",
       "      <th>diff</th>\n",
       "      <th>se</th>\n",
       "      <th>T</th>\n",
       "      <th>df</th>\n",
       "      <th>pval</th>\n",
       "      <th>hedges</th>\n",
       "    </tr>\n",
       "  </thead>\n",
       "  <tbody>\n",
       "    <tr>\n",
       "      <th>0</th>\n",
       "      <td>비슷하다</td>\n",
       "      <td>줄어든다</td>\n",
       "      <td>5.141440</td>\n",
       "      <td>4.970128</td>\n",
       "      <td>0.171312</td>\n",
       "      <td>0.099212</td>\n",
       "      <td>1.726728</td>\n",
       "      <td>1111.191093</td>\n",
       "      <td>1.956393e-01</td>\n",
       "      <td>0.074325</td>\n",
       "    </tr>\n",
       "    <tr>\n",
       "      <th>1</th>\n",
       "      <td>비슷하다</td>\n",
       "      <td>커진다</td>\n",
       "      <td>5.141440</td>\n",
       "      <td>5.618301</td>\n",
       "      <td>-0.476861</td>\n",
       "      <td>0.068307</td>\n",
       "      <td>-6.981194</td>\n",
       "      <td>4164.104533</td>\n",
       "      <td>7.890466e-12</td>\n",
       "      <td>-0.213635</td>\n",
       "    </tr>\n",
       "    <tr>\n",
       "      <th>2</th>\n",
       "      <td>줄어든다</td>\n",
       "      <td>커진다</td>\n",
       "      <td>4.970128</td>\n",
       "      <td>5.618301</td>\n",
       "      <td>-0.648173</td>\n",
       "      <td>0.101475</td>\n",
       "      <td>-6.387504</td>\n",
       "      <td>1196.859599</td>\n",
       "      <td>7.221314e-10</td>\n",
       "      <td>-0.280393</td>\n",
       "    </tr>\n",
       "  </tbody>\n",
       "</table>\n",
       "</div>"
      ],
      "text/plain": [
       "      A     B   mean(A)   mean(B)      diff        se         T           df  \\\n",
       "0  비슷하다  줄어든다  5.141440  4.970128  0.171312  0.099212  1.726728  1111.191093   \n",
       "1  비슷하다   커진다  5.141440  5.618301 -0.476861  0.068307 -6.981194  4164.104533   \n",
       "2  줄어든다   커진다  4.970128  5.618301 -0.648173  0.101475 -6.387504  1196.859599   \n",
       "\n",
       "           pval    hedges  \n",
       "0  1.956393e-01  0.074325  \n",
       "1  7.890466e-12 -0.213635  \n",
       "2  7.221314e-10 -0.280393  "
      ]
     },
     "execution_count": 22,
     "metadata": {},
     "output_type": "execute_result"
    }
   ],
   "source": [
    "post=pg.pairwise_gameshowell(dv = 'sad', between = 'anxiety', data = df)\n",
    "post"
   ]
  },
  {
   "cell_type": "code",
   "execution_count": 27,
   "metadata": {},
   "outputs": [
    {
     "data": {
      "text/html": [
       "<table class=\"simpletable\">\n",
       "<caption>Test Multiple Comparison ttest_ind \n",
       "FWER=0.05 method=bonf\n",
       "alphacSidak=0.02, alphacBonf=0.017</caption>\n",
       "<tr>\n",
       "  <th>group1</th> <th>group2</th>  <th>stat</th>    <th>pval</th>  <th>pval_corr</th> <th>reject</th>\n",
       "</tr>\n",
       "<tr>\n",
       "   <td>비슷하다</td>   <td>줄어든다</td>  <td>1.7772</td>  <td>0.0756</td>  <td>0.2269</td>    <td>False</td>\n",
       "</tr>\n",
       "<tr>\n",
       "   <td>비슷하다</td>    <td>커진다</td>  <td>-6.9912</td>   <td>0.0</td>     <td>0.0</td>     <td>True</td> \n",
       "</tr>\n",
       "<tr>\n",
       "   <td>줄어든다</td>    <td>커진다</td>  <td>-6.4971</td>   <td>0.0</td>     <td>0.0</td>     <td>True</td> \n",
       "</tr>\n",
       "</table>"
      ],
      "text/plain": [
       "<class 'statsmodels.iolib.table.SimpleTable'>"
      ]
     },
     "execution_count": 27,
     "metadata": {},
     "output_type": "execute_result"
    }
   ],
   "source": [
    "from statsmodels.sandbox.stats.multicomp import MultiComparison\n",
    "import scipy.stats\n",
    "\n",
    "comp = MultiComparison(df.sad, df.anxiety)\n",
    "result = comp.allpairtest(scipy.stats.ttest_ind, method='bonf')\n",
    "result[0]"
   ]
  },
  {
   "cell_type": "code",
   "execution_count": 25,
   "metadata": {},
   "outputs": [
    {
     "data": {
      "text/html": [
       "<table class=\"simpletable\">\n",
       "<caption>Multiple Comparison of Means - Tukey HSD, FWER=0.05</caption>\n",
       "<tr>\n",
       "  <th>group1</th> <th>group2</th> <th>meandiff</th>  <th>p-adj</th>  <th>lower</th>   <th>upper</th> <th>reject</th>\n",
       "</tr>\n",
       "<tr>\n",
       "   <td>비슷하다</td>   <td>줄어든다</td>   <td>-0.1713</td> <td>0.1786</td> <td>-0.3978</td> <td>0.0551</td>  <td>False</td>\n",
       "</tr>\n",
       "<tr>\n",
       "   <td>비슷하다</td>    <td>커진다</td>   <td>0.4769</td>    <td>0.0</td>  <td>0.3159</td>  <td>0.6378</td>  <td>True</td> \n",
       "</tr>\n",
       "<tr>\n",
       "   <td>줄어든다</td>    <td>커진다</td>   <td>0.6482</td>    <td>0.0</td>  <td>0.4172</td>  <td>0.8791</td>  <td>True</td> \n",
       "</tr>\n",
       "</table>"
      ],
      "text/plain": [
       "<class 'statsmodels.iolib.table.SimpleTable'>"
      ]
     },
     "execution_count": 25,
     "metadata": {},
     "output_type": "execute_result"
    }
   ],
   "source": [
    "from statsmodels.stats.multicomp import pairwise_tukeyhsd\n",
    "\n",
    "hsd = pairwise_tukeyhsd(df['sad'], df['anxiety'], alpha=0.05)\n",
    "hsd.summary()"
   ]
  },
  {
   "cell_type": "markdown",
   "metadata": {},
   "source": [
    "회귀모형"
   ]
  },
  {
   "cell_type": "code",
   "execution_count": 28,
   "metadata": {},
   "outputs": [
    {
     "data": {
      "text/html": [
       "<table class=\"simpletable\">\n",
       "<caption>OLS Regression Results</caption>\n",
       "<tr>\n",
       "  <th>Dep. Variable:</th>           <td>sad</td>       <th>  R-squared:         </th> <td>   0.013</td> \n",
       "</tr>\n",
       "<tr>\n",
       "  <th>Model:</th>                   <td>OLS</td>       <th>  Adj. R-squared:    </th> <td>   0.013</td> \n",
       "</tr>\n",
       "<tr>\n",
       "  <th>Method:</th>             <td>Least Squares</td>  <th>  F-statistic:       </th> <td>   33.28</td> \n",
       "</tr>\n",
       "<tr>\n",
       "  <th>Date:</th>             <td>Thu, 29 Sep 2022</td> <th>  Prob (F-statistic):</th> <td>4.37e-15</td> \n",
       "</tr>\n",
       "<tr>\n",
       "  <th>Time:</th>                 <td>11:09:15</td>     <th>  Log-Likelihood:    </th> <td> -11133.</td> \n",
       "</tr>\n",
       "<tr>\n",
       "  <th>No. Observations:</th>      <td>  5000</td>      <th>  AIC:               </th> <td>2.227e+04</td>\n",
       "</tr>\n",
       "<tr>\n",
       "  <th>Df Residuals:</th>          <td>  4997</td>      <th>  BIC:               </th> <td>2.229e+04</td>\n",
       "</tr>\n",
       "<tr>\n",
       "  <th>Df Model:</th>              <td>     2</td>      <th>                     </th>     <td> </td>    \n",
       "</tr>\n",
       "<tr>\n",
       "  <th>Covariance Type:</th>      <td>nonrobust</td>    <th>                     </th>     <td> </td>    \n",
       "</tr>\n",
       "</table>\n",
       "<table class=\"simpletable\">\n",
       "<tr>\n",
       "         <td></td>            <th>coef</th>     <th>std err</th>      <th>t</th>      <th>P>|t|</th>  <th>[0.025</th>    <th>0.975]</th>  \n",
       "</tr>\n",
       "<tr>\n",
       "  <th>Intercept</th>       <td>    5.1414</td> <td>    0.047</td> <td>  110.365</td> <td> 0.000</td> <td>    5.050</td> <td>    5.233</td>\n",
       "</tr>\n",
       "<tr>\n",
       "  <th>anxiety[T.줄어든다]</th> <td>   -0.1713</td> <td>    0.097</td> <td>   -1.774</td> <td> 0.076</td> <td>   -0.361</td> <td>    0.018</td>\n",
       "</tr>\n",
       "<tr>\n",
       "  <th>anxiety[T.커진다]</th>  <td>    0.4769</td> <td>    0.069</td> <td>    6.945</td> <td> 0.000</td> <td>    0.342</td> <td>    0.611</td>\n",
       "</tr>\n",
       "</table>\n",
       "<table class=\"simpletable\">\n",
       "<tr>\n",
       "  <th>Omnibus:</th>       <td>220.973</td> <th>  Durbin-Watson:     </th> <td>   1.450</td>\n",
       "</tr>\n",
       "<tr>\n",
       "  <th>Prob(Omnibus):</th> <td> 0.000</td>  <th>  Jarque-Bera (JB):  </th> <td> 243.638</td>\n",
       "</tr>\n",
       "<tr>\n",
       "  <th>Skew:</th>          <td>-0.527</td>  <th>  Prob(JB):          </th> <td>1.24e-53</td>\n",
       "</tr>\n",
       "<tr>\n",
       "  <th>Kurtosis:</th>      <td> 2.761</td>  <th>  Cond. No.          </th> <td>    3.65</td>\n",
       "</tr>\n",
       "</table><br/><br/>Notes:<br/>[1] Standard Errors assume that the covariance matrix of the errors is correctly specified."
      ],
      "text/plain": [
       "<class 'statsmodels.iolib.summary.Summary'>\n",
       "\"\"\"\n",
       "                            OLS Regression Results                            \n",
       "==============================================================================\n",
       "Dep. Variable:                    sad   R-squared:                       0.013\n",
       "Model:                            OLS   Adj. R-squared:                  0.013\n",
       "Method:                 Least Squares   F-statistic:                     33.28\n",
       "Date:                Thu, 29 Sep 2022   Prob (F-statistic):           4.37e-15\n",
       "Time:                        11:09:15   Log-Likelihood:                -11133.\n",
       "No. Observations:                5000   AIC:                         2.227e+04\n",
       "Df Residuals:                    4997   BIC:                         2.229e+04\n",
       "Df Model:                           2                                         \n",
       "Covariance Type:            nonrobust                                         \n",
       "===================================================================================\n",
       "                      coef    std err          t      P>|t|      [0.025      0.975]\n",
       "-----------------------------------------------------------------------------------\n",
       "Intercept           5.1414      0.047    110.365      0.000       5.050       5.233\n",
       "anxiety[T.줄어든다]    -0.1713      0.097     -1.774      0.076      -0.361       0.018\n",
       "anxiety[T.커진다]      0.4769      0.069      6.945      0.000       0.342       0.611\n",
       "==============================================================================\n",
       "Omnibus:                      220.973   Durbin-Watson:                   1.450\n",
       "Prob(Omnibus):                  0.000   Jarque-Bera (JB):              243.638\n",
       "Skew:                          -0.527   Prob(JB):                     1.24e-53\n",
       "Kurtosis:                       2.761   Cond. No.                         3.65\n",
       "==============================================================================\n",
       "\n",
       "Notes:\n",
       "[1] Standard Errors assume that the covariance matrix of the errors is correctly specified.\n",
       "\"\"\""
      ]
     },
     "execution_count": 28,
     "metadata": {},
     "output_type": "execute_result"
    }
   ],
   "source": [
    "\n",
    "import statsmodels.formula.api as sm \n",
    "\n",
    "\n",
    "model = sm.ols(formula = 'sad ~ anxiety',data=df).fit() \n",
    "model.summary()"
   ]
  }
 ],
 "metadata": {
  "kernelspec": {
   "display_name": "Python 3.10.5 ('lee': venv)",
   "language": "python",
   "name": "python3"
  },
  "language_info": {
   "codemirror_mode": {
    "name": "ipython",
    "version": 3
   },
   "file_extension": ".py",
   "mimetype": "text/x-python",
   "name": "python",
   "nbconvert_exporter": "python",
   "pygments_lexer": "ipython3",
   "version": "3.10.5"
  },
  "orig_nbformat": 4,
  "vscode": {
   "interpreter": {
    "hash": "04920c20da418648ae548ffbd5893e28e2335b186b692cea5d86387eff3268d3"
   }
  }
 },
 "nbformat": 4,
 "nbformat_minor": 2
}
