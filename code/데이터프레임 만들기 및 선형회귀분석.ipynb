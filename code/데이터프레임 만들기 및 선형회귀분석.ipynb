{
 "cells": [
  {
   "cell_type": "code",
   "execution_count": null,
   "metadata": {},
   "outputs": [],
   "source": []
  }
 ],
 "metadata": {
  "kernelspec": {
   "display_name": "Python 3.10.5 ('lee': venv)",
   "language": "python",
   "name": "python3"
  },
  "language_info": {
   "name": "python",
   "version": "3.10.5"
  },
  "orig_nbformat": 4,
  "vscode": {
   "interpreter": {
    "hash": "04920c20da418648ae548ffbd5893e28e2335b186b692cea5d86387eff3268d3"
   }
  }
 },
 "nbformat": 4,
 "nbformat_minor": 2
}
